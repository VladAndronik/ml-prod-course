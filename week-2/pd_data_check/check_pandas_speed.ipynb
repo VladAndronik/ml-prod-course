{
 "cells": [
  {
   "cell_type": "code",
   "execution_count": 14,
   "id": "8a49178e",
   "metadata": {},
   "outputs": [],
   "source": [
    "import pandas as pd\n",
    "import numpy as np"
   ]
  },
  {
   "cell_type": "code",
   "execution_count": 15,
   "id": "485f8324",
   "metadata": {},
   "outputs": [],
   "source": [
    "data_npy = np.random.uniform(size=(10000, 5))\n",
    "data = pd.DataFrame(data_npy, columns=(str(i) for i in range(data_npy.shape[1])))"
   ]
  },
  {
   "cell_type": "code",
   "execution_count": 26,
   "id": "e7ce933c",
   "metadata": {},
   "outputs": [],
   "source": [
    "os.makedirs('data/csv', exist_ok=True)\n",
    "data.to_csv('data/csv/dataset.csv', index=False)"
   ]
  },
  {
   "cell_type": "code",
   "execution_count": null,
   "id": "60a58997",
   "metadata": {},
   "outputs": [],
   "source": [
    "file_formats = ['.csv', 'parquet', 'h5py', 'npy', 'xarray']"
   ]
  },
  {
   "cell_type": "code",
   "execution_count": 16,
   "id": "9fab84f6",
   "metadata": {},
   "outputs": [],
   "source": [
    "!rm -rf data/parquet/"
   ]
  },
  {
   "cell_type": "code",
   "execution_count": 17,
   "id": "afb2a7ce",
   "metadata": {},
   "outputs": [],
   "source": [
    "# parquet\n",
    "!mkdir data/parquet\n",
    "data.to_parquet('data/parquet/dataset.parquet')"
   ]
  },
  {
   "cell_type": "code",
   "execution_count": 19,
   "id": "9f87f636",
   "metadata": {},
   "outputs": [
    {
     "name": "stdout",
     "output_type": "stream",
     "text": [
      "h5py  parquet  train.csv\r\n"
     ]
    }
   ],
   "source": [
    "!ls data"
   ]
  },
  {
   "cell_type": "code",
   "execution_count": 21,
   "id": "5b0ac9db",
   "metadata": {},
   "outputs": [],
   "source": [
    "# h5py\n",
    "import os\n",
    "import h5py\n",
    "\n",
    "os.makedirs('data/h5py', exist_ok=True)\n",
    "\n",
    "\n",
    "# Writing:\n",
    "\n",
    "# Open HDF5 file\n",
    "h5_file = h5py.File('data/h5py/dataset.h5', 'w')\n",
    "# Write dataset\n",
    "h5_file.create_dataset('dataset', data=data_npy)\n",
    "# Close file and write data to disk. Important!\n",
    "h5_file.close()\n",
    "\n",
    "# Reading:\n",
    "\n",
    "# Open HDF5 file again\n",
    "h5_file = h5py.File('data/h5py/dataset.h5', 'r')\n",
    "\n",
    "# Read the full dataset\n",
    "data_array_h5 = h5_file['dataset'][()]\n",
    "\n",
    "# Close file\n",
    "h5_file.close()"
   ]
  },
  {
   "cell_type": "code",
   "execution_count": 24,
   "id": "87add073",
   "metadata": {},
   "outputs": [],
   "source": [
    "# npy\n",
    "os.makedirs('data/npy', exist_ok=True)\n",
    "np.save('data/npy/dataset.npy', data_npy)"
   ]
  },
  {
   "cell_type": "code",
   "execution_count": 25,
   "id": "2c9901e6",
   "metadata": {},
   "outputs": [],
   "source": [
    "# xarray\n",
    "import xarray as xr\n",
    "\n",
    "os.makedirs('data/xr', exist_ok=True)\n",
    "\n",
    "# Write tidy data as NetCDF4\n",
    "data.to_xarray().to_netcdf('data/xr/dataset.nc', engine='h5netcdf')\n",
    "# Read tidy data from NetCDF4\n",
    "dataset_xarray = xr.open_dataset('data/xr/dataset.nc', engine='h5netcdf')\n",
    "dataset_netcdf4 = dataset_xarray.to_pandas()\n",
    "dataset_xarray.close()"
   ]
  },
  {
   "cell_type": "markdown",
   "id": "cfdc0b68",
   "metadata": {},
   "source": [
    "### Measure time"
   ]
  },
  {
   "cell_type": "code",
   "execution_count": 31,
   "id": "ba44732d",
   "metadata": {},
   "outputs": [],
   "source": [
    "def load_csv(file):\n",
    "    return pd.read_csv(file)\n",
    "\n",
    "def load_npy(file):\n",
    "    return np.load(file)\n",
    "\n",
    "def load_h5(file):\n",
    "    h5_file = h5py.File(file, 'r')\n",
    "    data_array_h5 = h5_file['dataset'][()]\n",
    "    h5_file.close()\n",
    "    return data_array_h5\n",
    "\n",
    "def load_xr(file):\n",
    "    dataset_xarray = xr.open_dataset(file, engine='h5netcdf')\n",
    "    dataset_netcdf4 = dataset_xarray.to_pandas()\n",
    "    dataset_xarray.close()\n",
    "    return dataset_netcdf4\n",
    "\n",
    "def load_pq(file):\n",
    "    return pd.read_parquet(file)"
   ]
  },
  {
   "cell_type": "code",
   "execution_count": 40,
   "id": "9a254de8",
   "metadata": {},
   "outputs": [],
   "source": [
    "save_dir = Path('tmp')\n",
    "save_dir.mkdir(exist_ok=True)\n",
    "\n",
    "def save_csv(data, file):\n",
    "    return data.to_csv(file, index=False)\n",
    "\n",
    "def save_npy(data, file):\n",
    "    return np.save(file, data)\n",
    "\n",
    "def save_h5(data_array, file):\n",
    "    h5_file = h5py.File(file, 'w')\n",
    "    h5_file.create_dataset('data_array', data=data_array)\n",
    "    h5_file.close()\n",
    "\n",
    "def save_xr(data_array, file):\n",
    "    xr.DataArray(data_array).to_netcdf(file, engine='h5netcdf')\n",
    "\n",
    "def save_pq(data, file):\n",
    "    data.to_parquet(file)"
   ]
  },
  {
   "cell_type": "code",
   "execution_count": 49,
   "id": "63f55325",
   "metadata": {},
   "outputs": [],
   "source": [
    "from pathlib import Path\n",
    "from functools import partial\n",
    "\n",
    "root = Path('data')\n",
    "files = {\n",
    "    'csv': (root / 'csv' / 'dataset.csv', load_csv, \n",
    "            partial(save_csv, data=data, file=save_dir / 'csv.csv')),\n",
    "    'h5': (root / 'h5py' / 'dataset.h5', load_h5, \n",
    "           partial(save_h5, data_array=data_npy, file=save_dir / 'h5.h5')),\n",
    "    'npy': (root / 'npy' / 'dataset.npy', \n",
    "            load_npy, partial(save_csv, data=data, file=save_dir / 'npy.npy')),\n",
    "    'xr': (root / 'xr' / 'dataset.nc', load_xr, \n",
    "           partial(save_xr, data_array=data_npy, file=save_dir / 'xr.nc')),\n",
    "    'parquet': (root / 'parquet' / 'dataset.parquet', load_pq, \n",
    "                partial(save_pq, data=data, file=save_dir / 'pq.pq')),\n",
    "}"
   ]
  },
  {
   "cell_type": "code",
   "execution_count": 46,
   "id": "33991357",
   "metadata": {},
   "outputs": [],
   "source": [
    "import time\n",
    "def measure_time(file, load_f):\n",
    "    time1 = time.time()\n",
    "    _ = load_f(file)\n",
    "    time2 = time.time()\n",
    "    \n",
    "    return time2 - time1\n",
    "\n",
    "def measure_time_no_arg(f):\n",
    "    time1 = time.time()\n",
    "    _ = f()\n",
    "    time2 = time.time()\n",
    "    \n",
    "    return time2 - time1"
   ]
  },
  {
   "cell_type": "code",
   "execution_count": 37,
   "id": "03594a2a",
   "metadata": {},
   "outputs": [],
   "source": [
    "def get_size_file(file):\n",
    "    return os.stat(file).st_size / (1024 * 1024)"
   ]
  },
  {
   "cell_type": "code",
   "execution_count": 50,
   "id": "c7cb70f5",
   "metadata": {},
   "outputs": [
    {
     "name": "stdout",
     "output_type": "stream",
     "text": [
      "csv 0.9186868667602539 0.023109912872314453 0.05780196189880371\n",
      "h5 0.3834228515625 0.0005431175231933594 0.0005953311920166016\n",
      "npy 0.381591796875 0.0003285408020019531 0.05182194709777832\n",
      "xr 0.467529296875 0.018091917037963867 0.010646343231201172\n",
      "parquet 0.4689798355102539 0.10973048210144043 0.047615766525268555\n"
     ]
    }
   ],
   "source": [
    "for key, (file, load_fu, save_f) in files.items():\n",
    "    print(key, get_size_file(file), measure_time(file, load_fu), measure_time_no_arg(save_f))"
   ]
  },
  {
   "cell_type": "code",
   "execution_count": null,
   "id": "474099fb",
   "metadata": {},
   "outputs": [],
   "source": []
  }
 ],
 "metadata": {
  "kernelspec": {
   "display_name": "Python 3 (ipykernel)",
   "language": "python",
   "name": "python3"
  },
  "language_info": {
   "codemirror_mode": {
    "name": "ipython",
    "version": 3
   },
   "file_extension": ".py",
   "mimetype": "text/x-python",
   "name": "python",
   "nbconvert_exporter": "python",
   "pygments_lexer": "ipython3",
   "version": "3.8.3"
  }
 },
 "nbformat": 4,
 "nbformat_minor": 5
}
